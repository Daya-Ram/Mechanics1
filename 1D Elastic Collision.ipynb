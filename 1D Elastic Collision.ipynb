{
 "cells": [
  {
   "cell_type": "code",
   "execution_count": null,
   "metadata": {},
   "outputs": [],
   "source": [
    "#install vpython from conda\n",
    "#in jupyter notebook click new botton in right top corner and choose vpython\n",
    "from math import *\n",
    "from vpython import *\n",
    "scene = canvas(title = \"Collision-1D Elastic\")\n",
    "#creating two balls\n",
    "r1=0.05\n",
    "ball1=sphere(pos=vector(-1,0,0),radius=r1,color=color.red)\n",
    "\n",
    "r2=0.05\n",
    "ball2=sphere(pos=vector(1,0,0),radius=r2,color=color.blue)\n",
    "\n",
    "# mass of balls\n",
    "ball1.m = 0.2\n",
    "ball2.m = 0.2\n",
    "\n",
    "#intial velocities and momentum\n",
    "u1=0.3\n",
    "u2=-0.2\n",
    "ball1.p=ball1.m*vector(u1,0,0)\n",
    "ball2.p=ball2.m*vector(u2,0,0)\n",
    "\n",
    "#initial conditions\n",
    "t=0\n",
    "dt=0.01\n",
    "f21=vector(0,0,0) \n",
    "f12=vector(0,0,0)\n",
    "k1=mag(ball1.p)**2/(2*ball1.m) + mag(ball2.p)**2/(2*ball2.m)\n",
    "print(\"Pre-Collision Velocities:\",u1,\",\",u2 ,\"(In SI Unit)\")\n",
    "print(\"Total Initial Momentum = \", ball1.p + ball2.p, \"kg m/s\")\n",
    "print(\"Total Initial Kinetic Energy = \", k1, \"Joules\")\n",
    "\n",
    "#final velocities\n",
    "v1 = ((ball1.m-ball2.m)*vector(u1,0,0)+2*ball2.m*vector(u2,0,0))/(ball1.m+ball2.m)\n",
    "v2 = (2*ball1.m*vector(u1,0,0)-(ball1.m-ball2.m)*vector(u2,0,0))/(ball1.m+ball2.m)\n",
    "\n",
    "while t<6:\n",
    "    rate(30)\n",
    "    f21=vector(0,0,0)\n",
    "    f12=vector(0,0,0)\n",
    "    \n",
    "    #detection for collosion\n",
    "    r=ball1.pos-ball2.pos\n",
    "    if mag(r)<(r1+r2):\n",
    "        f21 = (ball1.m*v1-ball1.m*vector(u1,0,0))/dt\n",
    "        f12=-f21\n",
    "    #updating momentm and position\n",
    "    ball1.p=ball1.p+f21*dt\n",
    "    ball2.p=ball2.p+f12*dt\n",
    "    ball1.pos=ball1.pos + ball1.p*dt/ball1.m\n",
    "    ball2.pos=ball2.pos + ball2.p*dt/ball2.m\n",
    "    \n",
    "    t=t+dt\n",
    "    \n",
    "k2=mag(ball1.p)**2/(2*ball1.m) + mag(ball2.p)**2/(2*ball2.m)\n",
    "print(\"Post-Collision Velocities:\", v1,\",\",v2,\"(In SI Unit)\")\n",
    "print(\"Total Final Momentum = \", ball1.p + ball2.p, \"kg m/s\")\n",
    "print(\"Total Final Kinetic Energy = \", k2, \"Joules\")"
   ]
  },
  {
   "cell_type": "code",
   "execution_count": null,
   "metadata": {},
   "outputs": [],
   "source": [
    "##################"
   ]
  }
 ],
 "metadata": {
  "kernelspec": {
   "display_name": "VPython",
   "language": "python",
   "name": "vpython"
  },
  "language_info": {
   "codemirror_mode": {
    "name": "ipython",
    "version": 3
   },
   "file_extension": ".py",
   "mimetype": "text/x-python",
   "name": "python",
   "nbconvert_exporter": "python",
   "pygments_lexer": "ipython3",
   "version": "3.8.3"
  }
 },
 "nbformat": 4,
 "nbformat_minor": 4
}
