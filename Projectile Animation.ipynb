{
 "cells": [
  {
   "cell_type": "markdown",
   "metadata": {},
   "source": [
    "# Projectile projected from height"
   ]
  },
  {
   "cell_type": "code",
   "execution_count": null,
   "metadata": {},
   "outputs": [],
   "source": [
    "import numpy as np\n",
    "g = 9.8\n",
    "u1=float(45)\n",
    "h=float(100)\n",
    "#u1=float(input('enter initial velocity(m/s): '))\n",
    "#h=float(input('enter height(in meter): '))\n",
    "T1=np.sqrt((2*h)/g)\n",
    "T1"
   ]
  },
  {
   "cell_type": "code",
   "execution_count": null,
   "metadata": {},
   "outputs": [],
   "source": [
    "t1=np.arange(0,T1,0.1)\n",
    "t1"
   ]
  },
  {
   "cell_type": "code",
   "execution_count": null,
   "metadata": {},
   "outputs": [],
   "source": [
    "x1=u1*t1\n",
    "x1"
   ]
  },
  {
   "cell_type": "code",
   "execution_count": null,
   "metadata": {},
   "outputs": [],
   "source": [
    "y1=h-0.5*g*t1*t1\n",
    "y1"
   ]
  },
  {
   "cell_type": "code",
   "execution_count": null,
   "metadata": {},
   "outputs": [],
   "source": [
    "len(t1), max(x1), max(y1)"
   ]
  },
  {
   "cell_type": "code",
   "execution_count": null,
   "metadata": {},
   "outputs": [],
   "source": [
    "%matplotlib notebook\n",
    "import matplotlib.pyplot as plt\n",
    "import matplotlib.animation as animation\n",
    "\n",
    "fig = plt.figure()\n",
    "fig.set_dpi(100)\n",
    "fig.set_size_inches(8, 6)\n",
    "\n",
    "ax = plt.axes(xlim=(0,max(x1)), ylim=(0, max(y1)))\n",
    "patch = plt.Circle((0, 100), 2.00, fc='r')\n",
    "\n",
    "\n",
    "def init():\n",
    "    patch.center = (0, 100)\n",
    "    ax.add_patch(patch)\n",
    "    ax.grid(True, linestyle = '-')\n",
    "\n",
    "    return patch,\n",
    "\n",
    "def animate(i):\n",
    "    \n",
    "    x1, y1 = patch.center\n",
    "    x1=u1*t1[i]\n",
    "    y1=h-0.5*g*t1[i]*t1[i]\n",
    "    patch.center = (x1, y1)\n",
    "    return patch,\n",
    "\n",
    "anim = animation.FuncAnimation(fig, animate, init_func=init, frames=len(t1), interval=300,repeat=False)\n",
    "plt.show()"
   ]
  },
  {
   "cell_type": "code",
   "execution_count": null,
   "metadata": {},
   "outputs": [],
   "source": [
    "import pandas as pd\n",
    "df2 = pd.DataFrame({'t1':t1,'range':x1,'height':y1})\n",
    "df2.head()"
   ]
  },
  {
   "cell_type": "code",
   "execution_count": null,
   "metadata": {},
   "outputs": [],
   "source": [
    "%matplotlib notebook\n",
    "import numpy as np\n",
    "import matplotlib.pyplot as plt\n",
    "import matplotlib.animation as animation\n",
    "\n",
    "fig, ax = plt.subplots(figsize=(10,6))\n",
    "ax.set_xlim([min(x1),max(x1)])\n",
    "ax.set_ylim([min(y1),max(y1)])\n",
    "ax.set_xlabel('range',fontsize = 11)\n",
    "ax.set_ylabel('height',fontsize = 11)\n",
    "ax.set_title('Projectile Motion',fontsize = 11)\n",
    "ax.xaxis.grid()\n",
    "ax.yaxis.grid()\n",
    "ax.set_facecolor('#000000') \n",
    "line, = ax.plot([], [], lw=2,color='red')\n",
    "\n",
    "def init():\n",
    "    line.set_data([], [])\n",
    "    return (line,)\n",
    "\n",
    "def animate(j):\n",
    "    c = df2.iloc[:int(j)]\n",
    "    x1 = c.range\n",
    "    y1 = c.height\n",
    "    line.set_data(x1, y1)\n",
    "    return (line,)\n",
    "\n",
    "anim = animation.FuncAnimation(fig, animate, init_func=init,\n",
    "                               frames=len(t1), interval=300, repeat= False)\n",
    "plt.show()"
   ]
  },
  {
   "cell_type": "code",
   "execution_count": null,
   "metadata": {},
   "outputs": [],
   "source": [
    "########################################################################"
   ]
  },
  {
   "cell_type": "markdown",
   "metadata": {},
   "source": [
    "# Prrojectile projected from ground"
   ]
  },
  {
   "cell_type": "code",
   "execution_count": null,
   "metadata": {},
   "outputs": [],
   "source": [
    "g=9.8\n",
    "u=float(40)\n",
    "theta=float(45)\n",
    "T=2*u*(np.sin(np.radians(theta)))/g\n",
    "T"
   ]
  },
  {
   "cell_type": "code",
   "execution_count": null,
   "metadata": {},
   "outputs": [],
   "source": [
    "t=np.arange(0,T,0.1)\n",
    "t"
   ]
  },
  {
   "cell_type": "code",
   "execution_count": null,
   "metadata": {},
   "outputs": [],
   "source": [
    "x=u*np.cos(np.radians(theta))*t\n",
    "x"
   ]
  },
  {
   "cell_type": "code",
   "execution_count": null,
   "metadata": {},
   "outputs": [],
   "source": [
    "len(x),max(x), min(x)"
   ]
  },
  {
   "cell_type": "code",
   "execution_count": null,
   "metadata": {},
   "outputs": [],
   "source": [
    "y=u*np.sin(np.radians(theta))*t-0.5*g*t*t\n",
    "y"
   ]
  },
  {
   "cell_type": "code",
   "execution_count": null,
   "metadata": {},
   "outputs": [],
   "source": [
    "len(y),max(y), min(y)"
   ]
  },
  {
   "cell_type": "code",
   "execution_count": null,
   "metadata": {},
   "outputs": [],
   "source": [
    "R=u*u*(np.sin(np.radians(2*theta)))/g\n",
    "R"
   ]
  },
  {
   "cell_type": "code",
   "execution_count": null,
   "metadata": {},
   "outputs": [],
   "source": [
    "%matplotlib notebook\n",
    "import numpy as np\n",
    "import matplotlib.pyplot as plt\n",
    "import matplotlib.animation as animation\n",
    "\n",
    "fig = plt.figure()\n",
    "fig.set_dpi(100)\n",
    "fig.set_size_inches(8, 6)\n",
    "\n",
    "ax = plt.axes(xlim=(0,max(x)), ylim=(0, max(y)))\n",
    "patch = plt.Circle((0, 0), 2.00, fc='r')\n",
    "\n",
    "def init():\n",
    "    patch.center = (0, 0)\n",
    "    ax.add_patch(patch)\n",
    "    ax.grid(True, linestyle = '-')\n",
    "    return patch,\n",
    "\n",
    "def animate(i):\n",
    "    x, y = patch.center\n",
    "    x=u*np.cos(np.radians(theta))*t[i]\n",
    "    y=u*np.sin(np.radians(theta))*t[i]-0.5*g*t[i]*t[i]\n",
    "    patch.center = (x, y)\n",
    "    return patch,\n",
    "\n",
    "anim = animation.FuncAnimation(fig, animate, init_func=init, frames=len(t), interval=300,repeat=False)\n",
    "plt.show()"
   ]
  },
  {
   "cell_type": "code",
   "execution_count": null,
   "metadata": {},
   "outputs": [],
   "source": [
    "import pandas as pd\n",
    "df = pd.DataFrame({'t':t,'x_distance':x,'y_height':y})\n",
    "df.head()"
   ]
  },
  {
   "cell_type": "code",
   "execution_count": null,
   "metadata": {},
   "outputs": [],
   "source": [
    "%matplotlib notebook\n",
    "import numpy as np\n",
    "import matplotlib.pyplot as plt\n",
    "import matplotlib.animation as animation\n",
    "\n",
    "fig, ax = plt.subplots(figsize=(10,6))\n",
    "ax.set_xlim([min(x),max(x)])\n",
    "ax.set_ylim([min(y),max(y)])\n",
    "ax.set_xlabel('Range',fontsize = 11)\n",
    "ax.set_ylabel('Height',fontsize = 11)\n",
    "ax.set_title('Projectile Motion',fontsize = 11)\n",
    "ax.xaxis.grid()\n",
    "ax.yaxis.grid()\n",
    "ax.set_facecolor('#000000') \n",
    "line, = ax.plot([], [], lw=2,color='red')\n",
    "\n",
    "def init():\n",
    "    line.set_data([], [])\n",
    "    return (line,)\n",
    "\n",
    "def animate(i):\n",
    "    d = df.iloc[:int(i)]\n",
    "    x = d.x_distance\n",
    "    y = d.y_height\n",
    "    line.set_data(x, y)\n",
    "    return (line,)\n",
    "\n",
    "anim = animation.FuncAnimation(fig, animate, init_func=init,\n",
    "                               frames=len(t), interval=500, repeat=False)\n",
    "plt.show()"
   ]
  },
  {
   "cell_type": "code",
   "execution_count": null,
   "metadata": {},
   "outputs": [],
   "source": []
  },
  {
   "cell_type": "code",
   "execution_count": null,
   "metadata": {},
   "outputs": [],
   "source": [
    "j=int(input('enter value: '))\n",
    "t[j], x[j], y[j]"
   ]
  },
  {
   "cell_type": "code",
   "execution_count": null,
   "metadata": {},
   "outputs": [],
   "source": [
    "vx=ux=u*np.cos(np.radians(theta))\n",
    "vy=u*np.sin(np.radians(theta))-g*t[j]\n",
    "vx, vy"
   ]
  },
  {
   "cell_type": "code",
   "execution_count": null,
   "metadata": {},
   "outputs": [],
   "source": [
    "v=np.sqrt((vx*vx)+(vy*vy))\n",
    "print('velocity after {} second is:'.format(t[j]), v,'m/s.')"
   ]
  },
  {
   "cell_type": "code",
   "execution_count": null,
   "metadata": {},
   "outputs": [],
   "source": [
    "phi= vy/vx\n",
    "phi"
   ]
  },
  {
   "cell_type": "code",
   "execution_count": null,
   "metadata": {},
   "outputs": [],
   "source": [
    "import math\n",
    "print('Angle of velocity after {} second is:'.format(t[j]), math.degrees(math.atan(phi)),' (in degree).')"
   ]
  },
  {
   "cell_type": "code",
   "execution_count": null,
   "metadata": {},
   "outputs": [],
   "source": [
    "vx1=ux=u*np.cos(np.radians(theta))\n",
    "vy1=u*np.sin(np.radians(theta))-g*t\n",
    "v1=np.sqrt((vx1*vx1)+(vy1*vy1))\n",
    "v1"
   ]
  },
  {
   "cell_type": "code",
   "execution_count": null,
   "metadata": {},
   "outputs": [],
   "source": [
    "import math\n",
    "phi1= vy1/vx1\n",
    "Angles=np.abs(np.degrees(np.arctan(phi1)))\n",
    "Angles"
   ]
  },
  {
   "cell_type": "code",
   "execution_count": null,
   "metadata": {},
   "outputs": [],
   "source": [
    "import pandas as pd\n",
    "df1 = pd.DataFrame({'Time':t,'x_distance':x,'y_height':y,'velocity':v1, 'angles': Angles})\n",
    "df1.tail()"
   ]
  },
  {
   "cell_type": "code",
   "execution_count": null,
   "metadata": {},
   "outputs": [],
   "source": [
    "import plotly.express as px\n",
    "fig=px.line(df1, x='Time',y=['y_height','velocity', 'angles'],\n",
    "        title='Projectile: Height, Velocity and Angles',color_discrete_sequence=['#2ecc71','#e74c3c'], template='plotly_dark')\n",
    "fig.show()"
   ]
  },
  {
   "cell_type": "code",
   "execution_count": null,
   "metadata": {},
   "outputs": [],
   "source": []
  },
  {
   "cell_type": "code",
   "execution_count": null,
   "metadata": {},
   "outputs": [],
   "source": [
    "############################################"
   ]
  }
 ],
 "metadata": {
  "kernelspec": {
   "display_name": "Python 3",
   "language": "python",
   "name": "python3"
  },
  "language_info": {
   "codemirror_mode": {
    "name": "ipython",
    "version": 3
   },
   "file_extension": ".py",
   "mimetype": "text/x-python",
   "name": "python",
   "nbconvert_exporter": "python",
   "pygments_lexer": "ipython3",
   "version": "3.8.3"
  }
 },
 "nbformat": 4,
 "nbformat_minor": 4
}
